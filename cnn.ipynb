{
  "nbformat": 4,
  "nbformat_minor": 0,
  "metadata": {
    "colab": {
      "name": "cnn.ipynb",
      "provenance": []
    },
    "kernelspec": {
      "name": "python3",
      "display_name": "Python 3"
    },
    "accelerator": "GPU"
  },
  "cells": [
    {
      "cell_type": "code",
      "metadata": {
        "id": "Xv1Dnr4HWpUG",
        "colab_type": "code",
        "colab": {}
      },
      "source": [
        "# Convolutional Neural Networks\n",
        "# 1.Convolution(with activation fn to achieve non-linearity)-->2.Max pooling --> 3.Flattening-->4.Full connection\n",
        "\n",
        "# building the cnn\n",
        "\n",
        "# Importing keras libraries and packages\n",
        "from keras.models import Sequential\n",
        "from keras.layers import Convolution2D\n",
        "from keras.layers import Flatten\n",
        "from keras.layers import Dense\n",
        "from keras.layers import MaxPooling2D\n"
      ],
      "execution_count": 0,
      "outputs": []
    },
    {
      "cell_type": "code",
      "metadata": {
        "id": "HA_i33XLWtaN",
        "colab_type": "code",
        "colab": {}
      },
      "source": [
        "# Initializing the CNN\n",
        "classifier = Sequential()\n",
        "\n",
        "# step1: Convolution\n",
        "classifier.add(Convolution2D(filters = 32, kernel_size = 3, input_shape = (64, 64, 3), activation = 'relu'))\n",
        "\n",
        "# step2: Max Pooling\n",
        "classifier.add(MaxPooling2D(pool_size = (2, 2)))\n",
        "\n",
        "# step3: Flattening\n",
        "classifier.add(Flatten())\n",
        "\n",
        "# step4: Full connection\n",
        "classifier.add(Dense(units = 128, activation = 'relu'))\n",
        "classifier.add(Dense(units = 1, activation = 'sigmoid'))\n",
        "\n",
        "# Compiling cnn\n",
        "classifier.compile(optimizer = 'adam', loss = 'binary_crossentropy', metrics = ['accuracy'])\n"
      ],
      "execution_count": 0,
      "outputs": []
    },
    {
      "cell_type": "code",
      "metadata": {
        "id": "nYTiXDrZXRIz",
        "colab_type": "code",
        "colab": {
          "base_uri": "https://localhost:8080/",
          "height": 35
        },
        "outputId": "b8b6722a-a3c4-481f-eeb5-17a909c0121e"
      },
      "source": [
        "! git clone https://gitlab.com/prats0599/ml-datasets.git"
      ],
      "execution_count": 11,
      "outputs": [
        {
          "output_type": "stream",
          "text": [
            "fatal: destination path 'ml-datasets' already exists and is not an empty directory.\n"
          ],
          "name": "stdout"
        }
      ]
    },
    {
      "cell_type": "code",
      "metadata": {
        "id": "q8378bQBW0mq",
        "colab_type": "code",
        "colab": {
          "base_uri": "https://localhost:8080/",
          "height": 35
        },
        "outputId": "a5cee5b5-ed36-4369-a924-a9162affc256"
      },
      "source": [
        "\n",
        "\n",
        "from keras.preprocessing.image import ImageDataGenerator\n",
        "train_datagen = ImageDataGenerator(rescale=1./255,\n",
        "                                   shear_range=0.2,\n",
        "                                   zoom_range=0.2,\n",
        "                                   horizontal_flip=True)\n",
        "\n",
        "test_datagen = ImageDataGenerator(rescale=1./255)\n",
        "\n",
        "training_set = train_datagen.flow_from_directory('ml-datasets/training_set',\n",
        "                                              target_size=(64, 64),\n",
        "                                              batch_size=32,\n",
        "                                              class_mode='binary')\n"
      ],
      "execution_count": 12,
      "outputs": [
        {
          "output_type": "stream",
          "text": [
            "Found 8000 images belonging to 2 classes.\n"
          ],
          "name": "stdout"
        }
      ]
    },
    {
      "cell_type": "code",
      "metadata": {
        "id": "GSq-2aA3bcvQ",
        "colab_type": "code",
        "colab": {
          "base_uri": "https://localhost:8080/",
          "height": 35
        },
        "outputId": "5465ee77-5195-4f70-d85f-331b1c0e0b92"
      },
      "source": [
        "test_set = test_datagen.flow_from_directory('ml-datasets/test_set',\n",
        "                                            target_size=(64, 64),\n",
        "                                            batch_size=32,\n",
        "                                            class_mode='binary')\n"
      ],
      "execution_count": 13,
      "outputs": [
        {
          "output_type": "stream",
          "text": [
            "Found 2000 images belonging to 2 classes.\n"
          ],
          "name": "stdout"
        }
      ]
    },
    {
      "cell_type": "code",
      "metadata": {
        "id": "9Aw_1I5acTYS",
        "colab_type": "code",
        "colab": {
          "base_uri": "https://localhost:8080/",
          "height": 901
        },
        "outputId": "26f7428c-c928-4f6a-c5c1-d9b25d5ace42"
      },
      "source": [
        "bs = 32\n",
        "classifier.fit_generator(training_set,\n",
        "                         steps_per_epoch=8000/bs,\n",
        "                         epochs=25,\n",
        "                         validation_data=test_set,\n",
        "                         validation_steps=2000/bs)\n"
      ],
      "execution_count": 14,
      "outputs": [
        {
          "output_type": "stream",
          "text": [
            "Epoch 1/25\n",
            "250/250 [==============================] - 37s 149ms/step - loss: 0.6749 - acc: 0.6066 - val_loss: 0.5953 - val_acc: 0.6825\n",
            "Epoch 2/25\n",
            "250/250 [==============================] - 36s 143ms/step - loss: 0.5869 - acc: 0.6925 - val_loss: 0.5777 - val_acc: 0.7065\n",
            "Epoch 3/25\n",
            "250/250 [==============================] - 36s 143ms/step - loss: 0.5643 - acc: 0.7041 - val_loss: 0.6117 - val_acc: 0.6910\n",
            "Epoch 4/25\n",
            "250/250 [==============================] - 36s 142ms/step - loss: 0.5407 - acc: 0.7220 - val_loss: 0.6577 - val_acc: 0.6620\n",
            "Epoch 5/25\n",
            "250/250 [==============================] - 36s 143ms/step - loss: 0.5317 - acc: 0.7345 - val_loss: 0.5278 - val_acc: 0.7475\n",
            "Epoch 6/25\n",
            "250/250 [==============================] - 36s 143ms/step - loss: 0.5096 - acc: 0.7496 - val_loss: 0.6438 - val_acc: 0.6805\n",
            "Epoch 7/25\n",
            "250/250 [==============================] - 36s 144ms/step - loss: 0.4946 - acc: 0.7533 - val_loss: 0.5475 - val_acc: 0.7335\n",
            "Epoch 8/25\n",
            "250/250 [==============================] - 36s 144ms/step - loss: 0.4870 - acc: 0.7622 - val_loss: 0.5360 - val_acc: 0.7365\n",
            "Epoch 9/25\n",
            "250/250 [==============================] - 36s 143ms/step - loss: 0.4786 - acc: 0.7618 - val_loss: 0.5143 - val_acc: 0.7500\n",
            "Epoch 10/25\n",
            "250/250 [==============================] - 36s 143ms/step - loss: 0.4614 - acc: 0.7746 - val_loss: 0.5669 - val_acc: 0.7390\n",
            "Epoch 11/25\n",
            "250/250 [==============================] - 36s 143ms/step - loss: 0.4544 - acc: 0.7819 - val_loss: 0.5775 - val_acc: 0.7330\n",
            "Epoch 12/25\n",
            "250/250 [==============================] - 36s 145ms/step - loss: 0.4425 - acc: 0.7909 - val_loss: 0.5633 - val_acc: 0.7435\n",
            "Epoch 13/25\n",
            "250/250 [==============================] - 36s 144ms/step - loss: 0.4337 - acc: 0.7975 - val_loss: 0.5612 - val_acc: 0.7460\n",
            "Epoch 14/25\n",
            "250/250 [==============================] - 36s 144ms/step - loss: 0.4309 - acc: 0.8027 - val_loss: 0.5990 - val_acc: 0.7405\n",
            "Epoch 15/25\n",
            "250/250 [==============================] - 36s 143ms/step - loss: 0.4139 - acc: 0.8089 - val_loss: 0.5469 - val_acc: 0.7450\n",
            "Epoch 16/25\n",
            "250/250 [==============================] - 36s 143ms/step - loss: 0.4105 - acc: 0.8087 - val_loss: 0.5853 - val_acc: 0.7440\n",
            "Epoch 17/25\n",
            "250/250 [==============================] - 36s 143ms/step - loss: 0.3989 - acc: 0.8216 - val_loss: 0.5509 - val_acc: 0.7650\n",
            "Epoch 18/25\n",
            "250/250 [==============================] - 36s 144ms/step - loss: 0.3834 - acc: 0.8250 - val_loss: 0.5939 - val_acc: 0.7605\n",
            "Epoch 19/25\n",
            "250/250 [==============================] - 36s 144ms/step - loss: 0.3878 - acc: 0.8244 - val_loss: 0.5814 - val_acc: 0.7580\n",
            "Epoch 20/25\n",
            "250/250 [==============================] - 36s 143ms/step - loss: 0.3691 - acc: 0.8314 - val_loss: 0.5446 - val_acc: 0.7665\n",
            "Epoch 21/25\n",
            "250/250 [==============================] - 36s 144ms/step - loss: 0.3652 - acc: 0.8332 - val_loss: 0.5972 - val_acc: 0.7470\n",
            "Epoch 22/25\n",
            "250/250 [==============================] - 36s 143ms/step - loss: 0.3570 - acc: 0.8416 - val_loss: 0.5844 - val_acc: 0.7595\n",
            "Epoch 23/25\n",
            "250/250 [==============================] - 36s 144ms/step - loss: 0.3511 - acc: 0.8452 - val_loss: 0.6008 - val_acc: 0.7505\n",
            "Epoch 24/25\n",
            "250/250 [==============================] - 36s 143ms/step - loss: 0.3465 - acc: 0.8455 - val_loss: 0.5849 - val_acc: 0.7620\n",
            "Epoch 25/25\n",
            "250/250 [==============================] - 36s 144ms/step - loss: 0.3376 - acc: 0.8540 - val_loss: 0.5568 - val_acc: 0.7695\n"
          ],
          "name": "stdout"
        },
        {
          "output_type": "execute_result",
          "data": {
            "text/plain": [
              "<keras.callbacks.History at 0x7f49f7fcfa20>"
            ]
          },
          "metadata": {
            "tags": []
          },
          "execution_count": 14
        }
      ]
    },
    {
      "cell_type": "code",
      "metadata": {
        "id": "WSkXP_BbcYTw",
        "colab_type": "code",
        "colab": {}
      },
      "source": [
        ""
      ],
      "execution_count": 0,
      "outputs": []
    }
  ]
}